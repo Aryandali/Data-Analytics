{
  "nbformat": 4,
  "nbformat_minor": 0,
  "metadata": {
    "colab": {
      "name": "exp4_main.ipynb",
      "provenance": []
    },
    "kernelspec": {
      "name": "python3",
      "display_name": "Python 3"
    },
    "language_info": {
      "name": "python"
    }
  },
  "cells": [
    {
      "cell_type": "markdown",
      "source": [
        "# ***Experiment 4: Regression Analysis***\n",
        "\n",
        "### Name: Aryan Dali             \n",
        "###UID: 2019120016 \n",
        "###Class: TE EXTC\n"
      ],
      "metadata": {
        "id": "ttzkKonipzcN"
      }
    },
    {
      "cell_type": "markdown",
      "source": [
        "The given data set is a climate change dataset with the amount of various gases and substances in air and the temperature of the air in every year. We have to find out the correaltion of all the variables and build linear regression models with the data"
      ],
      "metadata": {
        "id": "6TMAxVFr1dX6"
      }
    },
    {
      "cell_type": "code",
      "execution_count": 36,
      "metadata": {
        "id": "ATQL2Mmh-n3M"
      },
      "outputs": [],
      "source": [
        "import pandas as pd\n",
        "import seaborn as sns\n",
        "import numpy as np\n",
        "import matplotlib.pyplot as plt\n",
        "from sklearn.metrics import r2_score"
      ]
    },
    {
      "cell_type": "code",
      "source": [
        "#importing the data and understanding it\n",
        "data = pd.read_csv(\"/content/climate_change (1).csv\")\n",
        "\n",
        "data.head(10)"
      ],
      "metadata": {
        "colab": {
          "base_uri": "https://localhost:8080/",
          "height": 363
        },
        "id": "hDkw5mcH-sOP",
        "outputId": "d678370b-0999-464f-dcf0-c315afb19b9f"
      },
      "execution_count": 37,
      "outputs": [
        {
          "output_type": "execute_result",
          "data": {
            "text/plain": [
              "   Year  Month    MEI     CO2      CH4      N2O   CFC-11   CFC-12        TSI  \\\n",
              "0  1983      5  2.556  345.96  1638.59  303.677  191.324  350.113  1366.1024   \n",
              "1  1983      6  2.167  345.52  1633.71  303.746  192.057  351.848  1366.1208   \n",
              "2  1983      7  1.741  344.15  1633.22  303.795  192.818  353.725  1366.2850   \n",
              "3  1983      8  1.130  342.25  1631.35  303.839  193.602  355.633  1366.4202   \n",
              "4  1983      9  0.428  340.17  1648.40  303.901  194.392  357.465  1366.2335   \n",
              "5  1983     10  0.002  340.30  1663.79  303.970  195.171  359.174  1366.0589   \n",
              "6  1983     11 -0.176  341.53  1658.23  304.032  195.921  360.758  1366.1072   \n",
              "7  1983     12 -0.176  343.07  1654.31  304.082  196.609  362.174  1366.0607   \n",
              "8  1984      1 -0.339  344.05  1658.98  304.130  197.219  363.359  1365.4261   \n",
              "9  1984      2 -0.565  344.77  1656.48  304.194  197.759  364.296  1365.6618   \n",
              "\n",
              "   Aerosols   Temp  \n",
              "0    0.0863  0.109  \n",
              "1    0.0794  0.118  \n",
              "2    0.0731  0.137  \n",
              "3    0.0673  0.176  \n",
              "4    0.0619  0.149  \n",
              "5    0.0569  0.093  \n",
              "6    0.0524  0.232  \n",
              "7    0.0486  0.078  \n",
              "8    0.0451  0.089  \n",
              "9    0.0416  0.013  "
            ],
            "text/html": [
              "\n",
              "  <div id=\"df-e836dd2e-2ea0-449b-9202-c13d6b78d3a2\">\n",
              "    <div class=\"colab-df-container\">\n",
              "      <div>\n",
              "<style scoped>\n",
              "    .dataframe tbody tr th:only-of-type {\n",
              "        vertical-align: middle;\n",
              "    }\n",
              "\n",
              "    .dataframe tbody tr th {\n",
              "        vertical-align: top;\n",
              "    }\n",
              "\n",
              "    .dataframe thead th {\n",
              "        text-align: right;\n",
              "    }\n",
              "</style>\n",
              "<table border=\"1\" class=\"dataframe\">\n",
              "  <thead>\n",
              "    <tr style=\"text-align: right;\">\n",
              "      <th></th>\n",
              "      <th>Year</th>\n",
              "      <th>Month</th>\n",
              "      <th>MEI</th>\n",
              "      <th>CO2</th>\n",
              "      <th>CH4</th>\n",
              "      <th>N2O</th>\n",
              "      <th>CFC-11</th>\n",
              "      <th>CFC-12</th>\n",
              "      <th>TSI</th>\n",
              "      <th>Aerosols</th>\n",
              "      <th>Temp</th>\n",
              "    </tr>\n",
              "  </thead>\n",
              "  <tbody>\n",
              "    <tr>\n",
              "      <th>0</th>\n",
              "      <td>1983</td>\n",
              "      <td>5</td>\n",
              "      <td>2.556</td>\n",
              "      <td>345.96</td>\n",
              "      <td>1638.59</td>\n",
              "      <td>303.677</td>\n",
              "      <td>191.324</td>\n",
              "      <td>350.113</td>\n",
              "      <td>1366.1024</td>\n",
              "      <td>0.0863</td>\n",
              "      <td>0.109</td>\n",
              "    </tr>\n",
              "    <tr>\n",
              "      <th>1</th>\n",
              "      <td>1983</td>\n",
              "      <td>6</td>\n",
              "      <td>2.167</td>\n",
              "      <td>345.52</td>\n",
              "      <td>1633.71</td>\n",
              "      <td>303.746</td>\n",
              "      <td>192.057</td>\n",
              "      <td>351.848</td>\n",
              "      <td>1366.1208</td>\n",
              "      <td>0.0794</td>\n",
              "      <td>0.118</td>\n",
              "    </tr>\n",
              "    <tr>\n",
              "      <th>2</th>\n",
              "      <td>1983</td>\n",
              "      <td>7</td>\n",
              "      <td>1.741</td>\n",
              "      <td>344.15</td>\n",
              "      <td>1633.22</td>\n",
              "      <td>303.795</td>\n",
              "      <td>192.818</td>\n",
              "      <td>353.725</td>\n",
              "      <td>1366.2850</td>\n",
              "      <td>0.0731</td>\n",
              "      <td>0.137</td>\n",
              "    </tr>\n",
              "    <tr>\n",
              "      <th>3</th>\n",
              "      <td>1983</td>\n",
              "      <td>8</td>\n",
              "      <td>1.130</td>\n",
              "      <td>342.25</td>\n",
              "      <td>1631.35</td>\n",
              "      <td>303.839</td>\n",
              "      <td>193.602</td>\n",
              "      <td>355.633</td>\n",
              "      <td>1366.4202</td>\n",
              "      <td>0.0673</td>\n",
              "      <td>0.176</td>\n",
              "    </tr>\n",
              "    <tr>\n",
              "      <th>4</th>\n",
              "      <td>1983</td>\n",
              "      <td>9</td>\n",
              "      <td>0.428</td>\n",
              "      <td>340.17</td>\n",
              "      <td>1648.40</td>\n",
              "      <td>303.901</td>\n",
              "      <td>194.392</td>\n",
              "      <td>357.465</td>\n",
              "      <td>1366.2335</td>\n",
              "      <td>0.0619</td>\n",
              "      <td>0.149</td>\n",
              "    </tr>\n",
              "    <tr>\n",
              "      <th>5</th>\n",
              "      <td>1983</td>\n",
              "      <td>10</td>\n",
              "      <td>0.002</td>\n",
              "      <td>340.30</td>\n",
              "      <td>1663.79</td>\n",
              "      <td>303.970</td>\n",
              "      <td>195.171</td>\n",
              "      <td>359.174</td>\n",
              "      <td>1366.0589</td>\n",
              "      <td>0.0569</td>\n",
              "      <td>0.093</td>\n",
              "    </tr>\n",
              "    <tr>\n",
              "      <th>6</th>\n",
              "      <td>1983</td>\n",
              "      <td>11</td>\n",
              "      <td>-0.176</td>\n",
              "      <td>341.53</td>\n",
              "      <td>1658.23</td>\n",
              "      <td>304.032</td>\n",
              "      <td>195.921</td>\n",
              "      <td>360.758</td>\n",
              "      <td>1366.1072</td>\n",
              "      <td>0.0524</td>\n",
              "      <td>0.232</td>\n",
              "    </tr>\n",
              "    <tr>\n",
              "      <th>7</th>\n",
              "      <td>1983</td>\n",
              "      <td>12</td>\n",
              "      <td>-0.176</td>\n",
              "      <td>343.07</td>\n",
              "      <td>1654.31</td>\n",
              "      <td>304.082</td>\n",
              "      <td>196.609</td>\n",
              "      <td>362.174</td>\n",
              "      <td>1366.0607</td>\n",
              "      <td>0.0486</td>\n",
              "      <td>0.078</td>\n",
              "    </tr>\n",
              "    <tr>\n",
              "      <th>8</th>\n",
              "      <td>1984</td>\n",
              "      <td>1</td>\n",
              "      <td>-0.339</td>\n",
              "      <td>344.05</td>\n",
              "      <td>1658.98</td>\n",
              "      <td>304.130</td>\n",
              "      <td>197.219</td>\n",
              "      <td>363.359</td>\n",
              "      <td>1365.4261</td>\n",
              "      <td>0.0451</td>\n",
              "      <td>0.089</td>\n",
              "    </tr>\n",
              "    <tr>\n",
              "      <th>9</th>\n",
              "      <td>1984</td>\n",
              "      <td>2</td>\n",
              "      <td>-0.565</td>\n",
              "      <td>344.77</td>\n",
              "      <td>1656.48</td>\n",
              "      <td>304.194</td>\n",
              "      <td>197.759</td>\n",
              "      <td>364.296</td>\n",
              "      <td>1365.6618</td>\n",
              "      <td>0.0416</td>\n",
              "      <td>0.013</td>\n",
              "    </tr>\n",
              "  </tbody>\n",
              "</table>\n",
              "</div>\n",
              "      <button class=\"colab-df-convert\" onclick=\"convertToInteractive('df-e836dd2e-2ea0-449b-9202-c13d6b78d3a2')\"\n",
              "              title=\"Convert this dataframe to an interactive table.\"\n",
              "              style=\"display:none;\">\n",
              "        \n",
              "  <svg xmlns=\"http://www.w3.org/2000/svg\" height=\"24px\"viewBox=\"0 0 24 24\"\n",
              "       width=\"24px\">\n",
              "    <path d=\"M0 0h24v24H0V0z\" fill=\"none\"/>\n",
              "    <path d=\"M18.56 5.44l.94 2.06.94-2.06 2.06-.94-2.06-.94-.94-2.06-.94 2.06-2.06.94zm-11 1L8.5 8.5l.94-2.06 2.06-.94-2.06-.94L8.5 2.5l-.94 2.06-2.06.94zm10 10l.94 2.06.94-2.06 2.06-.94-2.06-.94-.94-2.06-.94 2.06-2.06.94z\"/><path d=\"M17.41 7.96l-1.37-1.37c-.4-.4-.92-.59-1.43-.59-.52 0-1.04.2-1.43.59L10.3 9.45l-7.72 7.72c-.78.78-.78 2.05 0 2.83L4 21.41c.39.39.9.59 1.41.59.51 0 1.02-.2 1.41-.59l7.78-7.78 2.81-2.81c.8-.78.8-2.07 0-2.86zM5.41 20L4 18.59l7.72-7.72 1.47 1.35L5.41 20z\"/>\n",
              "  </svg>\n",
              "      </button>\n",
              "      \n",
              "  <style>\n",
              "    .colab-df-container {\n",
              "      display:flex;\n",
              "      flex-wrap:wrap;\n",
              "      gap: 12px;\n",
              "    }\n",
              "\n",
              "    .colab-df-convert {\n",
              "      background-color: #E8F0FE;\n",
              "      border: none;\n",
              "      border-radius: 50%;\n",
              "      cursor: pointer;\n",
              "      display: none;\n",
              "      fill: #1967D2;\n",
              "      height: 32px;\n",
              "      padding: 0 0 0 0;\n",
              "      width: 32px;\n",
              "    }\n",
              "\n",
              "    .colab-df-convert:hover {\n",
              "      background-color: #E2EBFA;\n",
              "      box-shadow: 0px 1px 2px rgba(60, 64, 67, 0.3), 0px 1px 3px 1px rgba(60, 64, 67, 0.15);\n",
              "      fill: #174EA6;\n",
              "    }\n",
              "\n",
              "    [theme=dark] .colab-df-convert {\n",
              "      background-color: #3B4455;\n",
              "      fill: #D2E3FC;\n",
              "    }\n",
              "\n",
              "    [theme=dark] .colab-df-convert:hover {\n",
              "      background-color: #434B5C;\n",
              "      box-shadow: 0px 1px 3px 1px rgba(0, 0, 0, 0.15);\n",
              "      filter: drop-shadow(0px 1px 2px rgba(0, 0, 0, 0.3));\n",
              "      fill: #FFFFFF;\n",
              "    }\n",
              "  </style>\n",
              "\n",
              "      <script>\n",
              "        const buttonEl =\n",
              "          document.querySelector('#df-e836dd2e-2ea0-449b-9202-c13d6b78d3a2 button.colab-df-convert');\n",
              "        buttonEl.style.display =\n",
              "          google.colab.kernel.accessAllowed ? 'block' : 'none';\n",
              "\n",
              "        async function convertToInteractive(key) {\n",
              "          const element = document.querySelector('#df-e836dd2e-2ea0-449b-9202-c13d6b78d3a2');\n",
              "          const dataTable =\n",
              "            await google.colab.kernel.invokeFunction('convertToInteractive',\n",
              "                                                     [key], {});\n",
              "          if (!dataTable) return;\n",
              "\n",
              "          const docLinkHtml = 'Like what you see? Visit the ' +\n",
              "            '<a target=\"_blank\" href=https://colab.research.google.com/notebooks/data_table.ipynb>data table notebook</a>'\n",
              "            + ' to learn more about interactive tables.';\n",
              "          element.innerHTML = '';\n",
              "          dataTable['output_type'] = 'display_data';\n",
              "          await google.colab.output.renderOutput(dataTable, element);\n",
              "          const docLink = document.createElement('div');\n",
              "          docLink.innerHTML = docLinkHtml;\n",
              "          element.appendChild(docLink);\n",
              "        }\n",
              "      </script>\n",
              "    </div>\n",
              "  </div>\n",
              "  "
            ]
          },
          "metadata": {},
          "execution_count": 37
        }
      ]
    },
    {
      "cell_type": "markdown",
      "source": [
        "### Data Cleaning"
      ],
      "metadata": {
        "id": "660lEuNCp9wR"
      }
    },
    {
      "cell_type": "code",
      "source": [
        "#finding inter quartile range (IQR) to remove outliers\n",
        "Q1 = data.quantile(0.25)\n",
        "Q3 = data.quantile(0.75)\n",
        "IQR = Q3 - Q1\n",
        "#print(IQR)\n",
        "data = data[~((data < (Q1 - 1.5 * IQR)) |(data > (Q3 + 1.5 * IQR))).any(axis=1)]"
      ],
      "metadata": {
        "id": "CpSiKQQs-yKY"
      },
      "execution_count": 38,
      "outputs": []
    },
    {
      "cell_type": "markdown",
      "source": [
        "Correlation heaat map of all he variables in the dataset"
      ],
      "metadata": {
        "id": "rxHZ3oBnqAD0"
      }
    },
    {
      "cell_type": "code",
      "source": [
        "c = data.corr()\n",
        "sns.heatmap(c, cmap = 'BrBG', annot = True)"
      ],
      "metadata": {
        "colab": {
          "base_uri": "https://localhost:8080/",
          "height": 319
        },
        "id": "wNFYnXZJ-z0_",
        "outputId": "3acc71e5-bdbc-4655-a630-e53ec50d70cd"
      },
      "execution_count": 39,
      "outputs": [
        {
          "output_type": "execute_result",
          "data": {
            "text/plain": [
              "<matplotlib.axes._subplots.AxesSubplot at 0x7f028d063650>"
            ]
          },
          "metadata": {},
          "execution_count": 39
        },
        {
          "output_type": "display_data",
          "data": {
            "text/plain": [
              "<Figure size 432x288 with 2 Axes>"
            ],
            "image/png": "[encoded data removed]"
          },
          "metadata": {
            "needs_background": "light"
          }
        }
      ]
    },
    {
      "cell_type": "markdown",
      "source": [
        "From the above correlation map we can see that CO2, CH4,N20 and CFC-12 are highly corellated with the Temperature. "
      ],
      "metadata": {
        "id": "WX9rU5-NqJCM"
      }
    },
    {
      "cell_type": "code",
      "source": [
        "data.columns"
      ],
      "metadata": {
        "colab": {
          "base_uri": "https://localhost:8080/"
        },
        "id": "TLvK8_ZIDGCO",
        "outputId": "86ee5240-59a5-49ec-8433-bd7835ce1b6c"
      },
      "execution_count": 40,
      "outputs": [
        {
          "output_type": "execute_result",
          "data": {
            "text/plain": [
              "Index(['Year', 'Month', 'MEI', 'CO2', 'CH4', 'N2O', 'CFC-11', 'CFC-12', 'TSI',\n",
              "       'Aerosols', 'Temp'],\n",
              "      dtype='object')"
            ]
          },
          "metadata": {},
          "execution_count": 40
        }
      ]
    },
    {
      "cell_type": "markdown",
      "source": [
        "### Model Building with all variables"
      ],
      "metadata": {
        "id": "eWIp5fTx00nu"
      }
    },
    {
      "cell_type": "code",
      "source": [
        "import statsmodels.api as sm\n",
        "x = data[['MEI', 'CO2', 'CH4', 'N2O', 'CFC-11', 'CFC-12', 'TSI',\n",
        "       'Aerosols']]\n",
        "y = data[['Temp']]\n",
        "X2 = sm.add_constant(x)\n",
        "est = sm.OLS(y, X2)\n",
        "est2 = est.fit()\n",
        "print(est2.summary())"
      ],
      "metadata": {
        "colab": {
          "base_uri": "https://localhost:8080/"
        },
        "id": "dMmzHuYxC9Hi",
        "outputId": "0ca80f1d-608f-461a-e0f9-87f3e650893e"
      },
      "execution_count": 41,
      "outputs": [
        {
          "output_type": "stream",
          "name": "stdout",
          "text": [
            "                            OLS Regression Results                            \n",
            "==============================================================================\n",
            "Dep. Variable:                   Temp   R-squared:                       0.703\n",
            "Model:                            OLS   Adj. R-squared:                  0.692\n",
            "Method:                 Least Squares   F-statistic:                     69.11\n",
            "Date:                Wed, 18 May 2022   Prob (F-statistic):           2.36e-57\n",
            "Time:                        05:28:25   Log-Likelihood:                 251.36\n",
            "No. Observations:                 243   AIC:                            -484.7\n",
            "Df Residuals:                     234   BIC:                            -453.3\n",
            "Df Model:                           8                                         \n",
            "Covariance Type:            nonrobust                                         \n",
            "==============================================================================\n",
            "                 coef    std err          t      P>|t|      [0.025      0.975]\n",
            "------------------------------------------------------------------------------\n",
            "const        -60.8378     23.736     -2.563      0.011    -107.600     -14.075\n",
            "MEI            0.0665      0.007      9.650      0.000       0.053       0.080\n",
            "CO2            0.0033      0.002      1.389      0.166      -0.001       0.008\n",
            "CH4           -0.0005      0.001     -0.895      0.372      -0.002       0.001\n",
            "N2O           -0.0033      0.010     -0.319      0.750      -0.023       0.017\n",
            "CFC-11        -0.0032      0.002     -1.319      0.188      -0.008       0.002\n",
            "CFC-12         0.0027      0.001      2.173      0.031       0.000       0.005\n",
            "TSI            0.0449      0.018      2.532      0.012       0.010       0.080\n",
            "Aerosols      -8.2339      2.042     -4.032      0.000     -12.257      -4.211\n",
            "==============================================================================\n",
            "Omnibus:                        3.269   Durbin-Watson:                   1.015\n",
            "Prob(Omnibus):                  0.195   Jarque-Bera (JB):                2.996\n",
            "Skew:                           0.194   Prob(JB):                        0.224\n",
            "Kurtosis:                       3.381   Cond. No.                     9.94e+06\n",
            "==============================================================================\n",
            "\n",
            "Warnings:\n",
            "[1] Standard Errors assume that the covariance matrix of the errors is correctly specified.\n",
            "[2] The condition number is large, 9.94e+06. This might indicate that there are\n",
            "strong multicollinearity or other numerical problems.\n"
          ]
        },
        {
          "output_type": "stream",
          "name": "stderr",
          "text": [
            "/usr/local/lib/python3.7/dist-packages/statsmodels/tsa/tsatools.py:117: FutureWarning: In a future version of pandas all arguments of concat except for the argument 'objs' will be keyword-only\n",
            "  x = pd.concat(x[::order], 1)\n"
          ]
        }
      ]
    },
    {
      "cell_type": "markdown",
      "source": [
        "The variables that have a P-Value less than 0.05 are CFC-12, TSI, Aerosols and MEI"
      ],
      "metadata": {
        "id": "fvJGPhfeja1b"
      }
    },
    {
      "cell_type": "code",
      "source": [
        "df1 = data[data.iloc[:,0]<=2006]  \n",
        "df1.head()"
      ],
      "metadata": {
        "colab": {
          "base_uri": "https://localhost:8080/",
          "height": 206
        },
        "id": "f2-Ez1oF-3KY",
        "outputId": "7bc759e5-8340-49a8-bbb6-41e862a7ac0a"
      },
      "execution_count": 42,
      "outputs": [
        {
          "output_type": "execute_result",
          "data": {
            "text/plain": [
              "    Year  Month    MEI     CO2      CH4      N2O   CFC-11   CFC-12        TSI  \\\n",
              "29  1985     10 -0.140  343.08  1681.56  305.395  215.327  390.676  1365.5269   \n",
              "30  1985     11 -0.050  344.40  1680.68  305.530  216.282  392.714  1365.6289   \n",
              "31  1985     12 -0.293  345.82  1677.99  305.653  217.326  394.539  1365.6794   \n",
              "32  1986      1 -0.307  346.54  1675.82  305.775  218.382  396.082  1365.6746   \n",
              "33  1986      2 -0.191  347.13  1666.83  305.911  219.379  397.345  1365.5475   \n",
              "\n",
              "    Aerosols   Temp  \n",
              "29    0.0101 -0.008  \n",
              "30    0.0097 -0.093  \n",
              "31    0.0122 -0.002  \n",
              "32    0.0146  0.121  \n",
              "33    0.0158  0.065  "
            ],
            "text/html": [
              "\n",
              "  <div id=\"df-ef26983a-569b-4c25-a4f2-2354766a5767\">\n",
              "    <div class=\"colab-df-container\">\n",
              "      <div>\n",
              "<style scoped>\n",
              "    .dataframe tbody tr th:only-of-type {\n",
              "        vertical-align: middle;\n",
              "    }\n",
              "\n",
              "    .dataframe tbody tr th {\n",
              "        vertical-align: top;\n",
              "    }\n",
              "\n",
              "    .dataframe thead th {\n",
              "        text-align: right;\n",
              "    }\n",
              "</style>\n",
              "<table border=\"1\" class=\"dataframe\">\n",
              "  <thead>\n",
              "    <tr style=\"text-align: right;\">\n",
              "      <th></th>\n",
              "      <th>Year</th>\n",
              "      <th>Month</th>\n",
              "      <th>MEI</th>\n",
              "      <th>CO2</th>\n",
              "      <th>CH4</th>\n",
              "      <th>N2O</th>\n",
              "      <th>CFC-11</th>\n",
              "      <th>CFC-12</th>\n",
              "      <th>TSI</th>\n",
              "      <th>Aerosols</th>\n",
              "      <th>Temp</th>\n",
              "    </tr>\n",
              "  </thead>\n",
              "  <tbody>\n",
              "    <tr>\n",
              "      <th>29</th>\n",
              "      <td>1985</td>\n",
              "      <td>10</td>\n",
              "      <td>-0.140</td>\n",
              "      <td>343.08</td>\n",
              "      <td>1681.56</td>\n",
              "      <td>305.395</td>\n",
              "      <td>215.327</td>\n",
              "      <td>390.676</td>\n",
              "      <td>1365.5269</td>\n",
              "      <td>0.0101</td>\n",
              "      <td>-0.008</td>\n",
              "    </tr>\n",
              "    <tr>\n",
              "      <th>30</th>\n",
              "      <td>1985</td>\n",
              "      <td>11</td>\n",
              "      <td>-0.050</td>\n",
              "      <td>344.40</td>\n",
              "      <td>1680.68</td>\n",
              "      <td>305.530</td>\n",
              "      <td>216.282</td>\n",
              "      <td>392.714</td>\n",
              "      <td>1365.6289</td>\n",
              "      <td>0.0097</td>\n",
              "      <td>-0.093</td>\n",
              "    </tr>\n",
              "    <tr>\n",
              "      <th>31</th>\n",
              "      <td>1985</td>\n",
              "      <td>12</td>\n",
              "      <td>-0.293</td>\n",
              "      <td>345.82</td>\n",
              "      <td>1677.99</td>\n",
              "      <td>305.653</td>\n",
              "      <td>217.326</td>\n",
              "      <td>394.539</td>\n",
              "      <td>1365.6794</td>\n",
              "      <td>0.0122</td>\n",
              "      <td>-0.002</td>\n",
              "    </tr>\n",
              "    <tr>\n",
              "      <th>32</th>\n",
              "      <td>1986</td>\n",
              "      <td>1</td>\n",
              "      <td>-0.307</td>\n",
              "      <td>346.54</td>\n",
              "      <td>1675.82</td>\n",
              "      <td>305.775</td>\n",
              "      <td>218.382</td>\n",
              "      <td>396.082</td>\n",
              "      <td>1365.6746</td>\n",
              "      <td>0.0146</td>\n",
              "      <td>0.121</td>\n",
              "    </tr>\n",
              "    <tr>\n",
              "      <th>33</th>\n",
              "      <td>1986</td>\n",
              "      <td>2</td>\n",
              "      <td>-0.191</td>\n",
              "      <td>347.13</td>\n",
              "      <td>1666.83</td>\n",
              "      <td>305.911</td>\n",
              "      <td>219.379</td>\n",
              "      <td>397.345</td>\n",
              "      <td>1365.5475</td>\n",
              "      <td>0.0158</td>\n",
              "      <td>0.065</td>\n",
              "    </tr>\n",
              "  </tbody>\n",
              "</table>\n",
              "</div>\n",
              "      <button class=\"colab-df-convert\" onclick=\"convertToInteractive('df-ef26983a-569b-4c25-a4f2-2354766a5767')\"\n",
              "              title=\"Convert this dataframe to an interactive table.\"\n",
              "              style=\"display:none;\">\n",
              "        \n",
              "  <svg xmlns=\"http://www.w3.org/2000/svg\" height=\"24px\"viewBox=\"0 0 24 24\"\n",
              "       width=\"24px\">\n",
              "    <path d=\"M0 0h24v24H0V0z\" fill=\"none\"/>\n",
              "    <path d=\"M18.56 5.44l.94 2.06.94-2.06 2.06-.94-2.06-.94-.94-2.06-.94 2.06-2.06.94zm-11 1L8.5 8.5l.94-2.06 2.06-.94-2.06-.94L8.5 2.5l-.94 2.06-2.06.94zm10 10l.94 2.06.94-2.06 2.06-.94-2.06-.94-.94-2.06-.94 2.06-2.06.94z\"/><path d=\"M17.41 7.96l-1.37-1.37c-.4-.4-.92-.59-1.43-.59-.52 0-1.04.2-1.43.59L10.3 9.45l-7.72 7.72c-.78.78-.78 2.05 0 2.83L4 21.41c.39.39.9.59 1.41.59.51 0 1.02-.2 1.41-.59l7.78-7.78 2.81-2.81c.8-.78.8-2.07 0-2.86zM5.41 20L4 18.59l7.72-7.72 1.47 1.35L5.41 20z\"/>\n",
              "  </svg>\n",
              "      </button>\n",
              "      \n",
              "  <style>\n",
              "    .colab-df-container {\n",
              "      display:flex;\n",
              "      flex-wrap:wrap;\n",
              "      gap: 12px;\n",
              "    }\n",
              "\n",
              "    .colab-df-convert {\n",
              "      background-color: #E8F0FE;\n",
              "      border: none;\n",
              "      border-radius: 50%;\n",
              "      cursor: pointer;\n",
              "      display: none;\n",
              "      fill: #1967D2;\n",
              "      height: 32px;\n",
              "      padding: 0 0 0 0;\n",
              "      width: 32px;\n",
              "    }\n",
              "\n",
              "    .colab-df-convert:hover {\n",
              "      background-color: #E2EBFA;\n",
              "      box-shadow: 0px 1px 2px rgba(60, 64, 67, 0.3), 0px 1px 3px 1px rgba(60, 64, 67, 0.15);\n",
              "      fill: #174EA6;\n",
              "    }\n",
              "\n",
              "    [theme=dark] .colab-df-convert {\n",
              "      background-color: #3B4455;\n",
              "      fill: #D2E3FC;\n",
              "    }\n",
              "\n",
              "    [theme=dark] .colab-df-convert:hover {\n",
              "      background-color: #434B5C;\n",
              "      box-shadow: 0px 1px 3px 1px rgba(0, 0, 0, 0.15);\n",
              "      filter: drop-shadow(0px 1px 2px rgba(0, 0, 0, 0.3));\n",
              "      fill: #FFFFFF;\n",
              "    }\n",
              "  </style>\n",
              "\n",
              "      <script>\n",
              "        const buttonEl =\n",
              "          document.querySelector('#df-ef26983a-569b-4c25-a4f2-2354766a5767 button.colab-df-convert');\n",
              "        buttonEl.style.display =\n",
              "          google.colab.kernel.accessAllowed ? 'block' : 'none';\n",
              "\n",
              "        async function convertToInteractive(key) {\n",
              "          const element = document.querySelector('#df-ef26983a-569b-4c25-a4f2-2354766a5767');\n",
              "          const dataTable =\n",
              "            await google.colab.kernel.invokeFunction('convertToInteractive',\n",
              "                                                     [key], {});\n",
              "          if (!dataTable) return;\n",
              "\n",
              "          const docLinkHtml = 'Like what you see? Visit the ' +\n",
              "            '<a target=\"_blank\" href=https://colab.research.google.com/notebooks/data_table.ipynb>data table notebook</a>'\n",
              "            + ' to learn more about interactive tables.';\n",
              "          element.innerHTML = '';\n",
              "          dataTable['output_type'] = 'display_data';\n",
              "          await google.colab.output.renderOutput(dataTable, element);\n",
              "          const docLink = document.createElement('div');\n",
              "          docLink.innerHTML = docLinkHtml;\n",
              "          element.appendChild(docLink);\n",
              "        }\n",
              "      </script>\n",
              "    </div>\n",
              "  </div>\n",
              "  "
            ]
          },
          "metadata": {},
          "execution_count": 42
        }
      ]
    },
    {
      "cell_type": "code",
      "source": [
        "df1.shape"
      ],
      "metadata": {
        "colab": {
          "base_uri": "https://localhost:8080/"
        },
        "id": "4LCn756LCiit",
        "outputId": "0cfaa84e-bc5a-4dec-dd68-1cb5745e5980"
      },
      "execution_count": 43,
      "outputs": [
        {
          "output_type": "execute_result",
          "data": {
            "text/plain": [
              "(219, 11)"
            ]
          },
          "metadata": {},
          "execution_count": 43
        }
      ]
    },
    {
      "cell_type": "code",
      "source": [
        "df2 = data[data.iloc[:,0]>2006]  \n",
        "df2.head()"
      ],
      "metadata": {
        "colab": {
          "base_uri": "https://localhost:8080/",
          "height": 206
        },
        "id": "rxm4GarD-6TM",
        "outputId": "53908c1d-862f-43c2-b810-e169228b335c"
      },
      "execution_count": 44,
      "outputs": [
        {
          "output_type": "execute_result",
          "data": {
            "text/plain": [
              "     Year  Month    MEI     CO2      CH4      N2O   CFC-11   CFC-12  \\\n",
              "284  2007      1  0.974  382.93  1799.66  320.561  248.372  539.206   \n",
              "285  2007      2  0.510  383.81  1803.08  320.571  248.264  538.973   \n",
              "286  2007      3  0.074  384.56  1803.10  320.548  247.997  538.811   \n",
              "287  2007      4 -0.049  386.40  1802.11  320.518  247.574  538.586   \n",
              "288  2007      5  0.183  386.58  1795.65  320.445  247.224  538.130   \n",
              "\n",
              "           TSI  Aerosols   Temp  \n",
              "284  1365.7173    0.0054  0.601  \n",
              "285  1365.7145    0.0051  0.498  \n",
              "286  1365.7544    0.0045  0.435  \n",
              "287  1365.7228    0.0045  0.466  \n",
              "288  1365.6932    0.0041  0.372  "
            ],
            "text/html": [
              "\n",
              "  <div id=\"df-c72bb48a-08a5-4c53-9545-bdd1df8d8f6d\">\n",
              "    <div class=\"colab-df-container\">\n",
              "      <div>\n",
              "<style scoped>\n",
              "    .dataframe tbody tr th:only-of-type {\n",
              "        vertical-align: middle;\n",
              "    }\n",
              "\n",
              "    .dataframe tbody tr th {\n",
              "        vertical-align: top;\n",
              "    }\n",
              "\n",
              "    .dataframe thead th {\n",
              "        text-align: right;\n",
              "    }\n",
              "</style>\n",
              "<table border=\"1\" class=\"dataframe\">\n",
              "  <thead>\n",
              "    <tr style=\"text-align: right;\">\n",
              "      <th></th>\n",
              "      <th>Year</th>\n",
              "      <th>Month</th>\n",
              "      <th>MEI</th>\n",
              "      <th>CO2</th>\n",
              "      <th>CH4</th>\n",
              "      <th>N2O</th>\n",
              "      <th>CFC-11</th>\n",
              "      <th>CFC-12</th>\n",
              "      <th>TSI</th>\n",
              "      <th>Aerosols</th>\n",
              "      <th>Temp</th>\n",
              "    </tr>\n",
              "  </thead>\n",
              "  <tbody>\n",
              "    <tr>\n",
              "      <th>284</th>\n",
              "      <td>2007</td>\n",
              "      <td>1</td>\n",
              "      <td>0.974</td>\n",
              "      <td>382.93</td>\n",
              "      <td>1799.66</td>\n",
              "      <td>320.561</td>\n",
              "      <td>248.372</td>\n",
              "      <td>539.206</td>\n",
              "      <td>1365.7173</td>\n",
              "      <td>0.0054</td>\n",
              "      <td>0.601</td>\n",
              "    </tr>\n",
              "    <tr>\n",
              "      <th>285</th>\n",
              "      <td>2007</td>\n",
              "      <td>2</td>\n",
              "      <td>0.510</td>\n",
              "      <td>383.81</td>\n",
              "      <td>1803.08</td>\n",
              "      <td>320.571</td>\n",
              "      <td>248.264</td>\n",
              "      <td>538.973</td>\n",
              "      <td>1365.7145</td>\n",
              "      <td>0.0051</td>\n",
              "      <td>0.498</td>\n",
              "    </tr>\n",
              "    <tr>\n",
              "      <th>286</th>\n",
              "      <td>2007</td>\n",
              "      <td>3</td>\n",
              "      <td>0.074</td>\n",
              "      <td>384.56</td>\n",
              "      <td>1803.10</td>\n",
              "      <td>320.548</td>\n",
              "      <td>247.997</td>\n",
              "      <td>538.811</td>\n",
              "      <td>1365.7544</td>\n",
              "      <td>0.0045</td>\n",
              "      <td>0.435</td>\n",
              "    </tr>\n",
              "    <tr>\n",
              "      <th>287</th>\n",
              "      <td>2007</td>\n",
              "      <td>4</td>\n",
              "      <td>-0.049</td>\n",
              "      <td>386.40</td>\n",
              "      <td>1802.11</td>\n",
              "      <td>320.518</td>\n",
              "      <td>247.574</td>\n",
              "      <td>538.586</td>\n",
              "      <td>1365.7228</td>\n",
              "      <td>0.0045</td>\n",
              "      <td>0.466</td>\n",
              "    </tr>\n",
              "    <tr>\n",
              "      <th>288</th>\n",
              "      <td>2007</td>\n",
              "      <td>5</td>\n",
              "      <td>0.183</td>\n",
              "      <td>386.58</td>\n",
              "      <td>1795.65</td>\n",
              "      <td>320.445</td>\n",
              "      <td>247.224</td>\n",
              "      <td>538.130</td>\n",
              "      <td>1365.6932</td>\n",
              "      <td>0.0041</td>\n",
              "      <td>0.372</td>\n",
              "    </tr>\n",
              "  </tbody>\n",
              "</table>\n",
              "</div>\n",
              "      <button class=\"colab-df-convert\" onclick=\"convertToInteractive('df-c72bb48a-08a5-4c53-9545-bdd1df8d8f6d')\"\n",
              "              title=\"Convert this dataframe to an interactive table.\"\n",
              "              style=\"display:none;\">\n",
              "        \n",
              "  <svg xmlns=\"http://www.w3.org/2000/svg\" height=\"24px\"viewBox=\"0 0 24 24\"\n",
              "       width=\"24px\">\n",
              "    <path d=\"M0 0h24v24H0V0z\" fill=\"none\"/>\n",
              "    <path d=\"M18.56 5.44l.94 2.06.94-2.06 2.06-.94-2.06-.94-.94-2.06-.94 2.06-2.06.94zm-11 1L8.5 8.5l.94-2.06 2.06-.94-2.06-.94L8.5 2.5l-.94 2.06-2.06.94zm10 10l.94 2.06.94-2.06 2.06-.94-2.06-.94-.94-2.06-.94 2.06-2.06.94z\"/><path d=\"M17.41 7.96l-1.37-1.37c-.4-.4-.92-.59-1.43-.59-.52 0-1.04.2-1.43.59L10.3 9.45l-7.72 7.72c-.78.78-.78 2.05 0 2.83L4 21.41c.39.39.9.59 1.41.59.51 0 1.02-.2 1.41-.59l7.78-7.78 2.81-2.81c.8-.78.8-2.07 0-2.86zM5.41 20L4 18.59l7.72-7.72 1.47 1.35L5.41 20z\"/>\n",
              "  </svg>\n",
              "      </button>\n",
              "      \n",
              "  <style>\n",
              "    .colab-df-container {\n",
              "      display:flex;\n",
              "      flex-wrap:wrap;\n",
              "      gap: 12px;\n",
              "    }\n",
              "\n",
              "    .colab-df-convert {\n",
              "      background-color: #E8F0FE;\n",
              "      border: none;\n",
              "      border-radius: 50%;\n",
              "      cursor: pointer;\n",
              "      display: none;\n",
              "      fill: #1967D2;\n",
              "      height: 32px;\n",
              "      padding: 0 0 0 0;\n",
              "      width: 32px;\n",
              "    }\n",
              "\n",
              "    .colab-df-convert:hover {\n",
              "      background-color: #E2EBFA;\n",
              "      box-shadow: 0px 1px 2px rgba(60, 64, 67, 0.3), 0px 1px 3px 1px rgba(60, 64, 67, 0.15);\n",
              "      fill: #174EA6;\n",
              "    }\n",
              "\n",
              "    [theme=dark] .colab-df-convert {\n",
              "      background-color: #3B4455;\n",
              "      fill: #D2E3FC;\n",
              "    }\n",
              "\n",
              "    [theme=dark] .colab-df-convert:hover {\n",
              "      background-color: #434B5C;\n",
              "      box-shadow: 0px 1px 3px 1px rgba(0, 0, 0, 0.15);\n",
              "      filter: drop-shadow(0px 1px 2px rgba(0, 0, 0, 0.3));\n",
              "      fill: #FFFFFF;\n",
              "    }\n",
              "  </style>\n",
              "\n",
              "      <script>\n",
              "        const buttonEl =\n",
              "          document.querySelector('#df-c72bb48a-08a5-4c53-9545-bdd1df8d8f6d button.colab-df-convert');\n",
              "        buttonEl.style.display =\n",
              "          google.colab.kernel.accessAllowed ? 'block' : 'none';\n",
              "\n",
              "        async function convertToInteractive(key) {\n",
              "          const element = document.querySelector('#df-c72bb48a-08a5-4c53-9545-bdd1df8d8f6d');\n",
              "          const dataTable =\n",
              "            await google.colab.kernel.invokeFunction('convertToInteractive',\n",
              "                                                     [key], {});\n",
              "          if (!dataTable) return;\n",
              "\n",
              "          const docLinkHtml = 'Like what you see? Visit the ' +\n",
              "            '<a target=\"_blank\" href=https://colab.research.google.com/notebooks/data_table.ipynb>data table notebook</a>'\n",
              "            + ' to learn more about interactive tables.';\n",
              "          element.innerHTML = '';\n",
              "          dataTable['output_type'] = 'display_data';\n",
              "          await google.colab.output.renderOutput(dataTable, element);\n",
              "          const docLink = document.createElement('div');\n",
              "          docLink.innerHTML = docLinkHtml;\n",
              "          element.appendChild(docLink);\n",
              "        }\n",
              "      </script>\n",
              "    </div>\n",
              "  </div>\n",
              "  "
            ]
          },
          "metadata": {},
          "execution_count": 44
        }
      ]
    },
    {
      "cell_type": "code",
      "source": [
        "df2.shape"
      ],
      "metadata": {
        "colab": {
          "base_uri": "https://localhost:8080/"
        },
        "id": "0bdzOE4yCr-6",
        "outputId": "e79e1e04-4ba0-4842-db1f-d543e3ecfa1f"
      },
      "execution_count": 45,
      "outputs": [
        {
          "output_type": "execute_result",
          "data": {
            "text/plain": [
              "(24, 11)"
            ]
          },
          "metadata": {},
          "execution_count": 45
        }
      ]
    },
    {
      "cell_type": "code",
      "source": [
        "x = data[['MEI', 'CO2', 'CH4', 'N2O', 'CFC-11', 'CFC-12', 'TSI', 'Aerosols']]\n",
        "y = data['Temp']"
      ],
      "metadata": {
        "id": "OS-nonx2-9hj"
      },
      "execution_count": 46,
      "outputs": []
    },
    {
      "cell_type": "code",
      "source": [
        "x_train = df1[['MEI','CO2', 'CH4', 'N2O', 'CFC-11', 'CFC-12', 'TSI', 'Aerosols']]\n",
        "y_train = df1['Temp']\n",
        "x_test = df2[['MEI', 'CO2', 'CH4', 'N2O', 'CFC-11',  'CFC-12', 'TSI', 'Aerosols']]\n",
        "y_test = df2['Temp']\n",
        "# 'CO2', 'CH4', 'N2O', 'CFC-11', "
      ],
      "metadata": {
        "id": "G2d-GEDdFtTl"
      },
      "execution_count": 47,
      "outputs": []
    },
    {
      "cell_type": "code",
      "source": [
        "X2_train = sm.add_constant(x_train)\n",
        "est_train = sm.OLS(y_train, X2_train)\n",
        "est2 = est_train.fit()\n",
        "print(est2.summary())"
      ],
      "metadata": {
        "colab": {
          "base_uri": "https://localhost:8080/"
        },
        "id": "Ll1ISlMCL4iN",
        "outputId": "a49f4614-fe2a-468b-a33b-ebe331114858"
      },
      "execution_count": 48,
      "outputs": [
        {
          "output_type": "stream",
          "name": "stdout",
          "text": [
            "                            OLS Regression Results                            \n",
            "==============================================================================\n",
            "Dep. Variable:                   Temp   R-squared:                       0.722\n",
            "Model:                            OLS   Adj. R-squared:                  0.711\n",
            "Method:                 Least Squares   F-statistic:                     68.15\n",
            "Date:                Wed, 18 May 2022   Prob (F-statistic):           3.37e-54\n",
            "Time:                        05:28:25   Log-Likelihood:                 229.49\n",
            "No. Observations:                 219   AIC:                            -441.0\n",
            "Df Residuals:                     210   BIC:                            -410.5\n",
            "Df Model:                           8                                         \n",
            "Covariance Type:            nonrobust                                         \n",
            "==============================================================================\n",
            "                 coef    std err          t      P>|t|      [0.025      0.975]\n",
            "------------------------------------------------------------------------------\n",
            "const        -51.0320     24.469     -2.086      0.038     -99.268      -2.796\n",
            "MEI            0.0622      0.007      8.508      0.000       0.048       0.077\n",
            "CO2            0.0050      0.002      1.995      0.047    5.82e-05       0.010\n",
            "CH4           -0.0004      0.001     -0.689      0.491      -0.001       0.001\n",
            "N2O            0.0018      0.012      0.156      0.876      -0.021       0.025\n",
            "CFC-11        -0.0011      0.003     -0.406      0.685      -0.007       0.004\n",
            "CFC-12         0.0014      0.001      0.940      0.348      -0.002       0.004\n",
            "TSI            0.0360      0.019      1.931      0.055      -0.001       0.073\n",
            "Aerosols      -8.4359      2.024     -4.167      0.000     -12.427      -4.445\n",
            "==============================================================================\n",
            "Omnibus:                        6.330   Durbin-Watson:                   0.994\n",
            "Prob(Omnibus):                  0.042   Jarque-Bera (JB):                6.027\n",
            "Skew:                           0.363   Prob(JB):                       0.0491\n",
            "Kurtosis:                       3.366   Cond. No.                     9.82e+06\n",
            "==============================================================================\n",
            "\n",
            "Warnings:\n",
            "[1] Standard Errors assume that the covariance matrix of the errors is correctly specified.\n",
            "[2] The condition number is large, 9.82e+06. This might indicate that there are\n",
            "strong multicollinearity or other numerical problems.\n"
          ]
        },
        {
          "output_type": "stream",
          "name": "stderr",
          "text": [
            "/usr/local/lib/python3.7/dist-packages/statsmodels/tsa/tsatools.py:117: FutureWarning: In a future version of pandas all arguments of concat except for the argument 'objs' will be keyword-only\n",
            "  x = pd.concat(x[::order], 1)\n"
          ]
        }
      ]
    },
    {
      "cell_type": "code",
      "source": [
        "from sklearn.linear_model import LinearRegression\n",
        "mlr = LinearRegression()  \n",
        "mlr.fit(x_train, y_train)"
      ],
      "metadata": {
        "colab": {
          "base_uri": "https://localhost:8080/"
        },
        "id": "sw_Q3UBiBTxC",
        "outputId": "1fc82695-b602-43b2-fb94-3bf32467ea1a"
      },
      "execution_count": 49,
      "outputs": [
        {
          "output_type": "execute_result",
          "data": {
            "text/plain": [
              "LinearRegression()"
            ]
          },
          "metadata": {},
          "execution_count": 49
        }
      ]
    },
    {
      "cell_type": "code",
      "source": [
        "print(\"Intercept: \", mlr.intercept_)\n",
        "print(\"Coefficients:\")\n",
        "list(zip(x, mlr.coef_))"
      ],
      "metadata": {
        "colab": {
          "base_uri": "https://localhost:8080/"
        },
        "id": "H0q2kCx0BryT",
        "outputId": "9c73e415-65f9-499e-d68a-ddadc34044ad"
      },
      "execution_count": 50,
      "outputs": [
        {
          "output_type": "stream",
          "name": "stdout",
          "text": [
            "Intercept:  -51.031969159858036\n",
            "Coefficients:\n"
          ]
        },
        {
          "output_type": "execute_result",
          "data": {
            "text/plain": [
              "[('MEI', 0.06223569777302381),\n",
              " ('CO2', 0.0049606987940408465),\n",
              " ('CH4', -0.00038810727802363575),\n",
              " ('N2O', 0.0018262419311547184),\n",
              " ('CFC-11', -0.0011344993284555694),\n",
              " ('CFC-12', 0.0014013277032073551),\n",
              " ('TSI', 0.03604734063953119),\n",
              " ('Aerosols', -8.435947559286046)]"
            ]
          },
          "metadata": {},
          "execution_count": 50
        }
      ]
    },
    {
      "cell_type": "code",
      "source": [
        "#Prediction of test set\n",
        "y_pred_mlr= mlr.predict(x_test)\n",
        "#Predicted values\n",
        "print(\"Prediction for test set: {}\".format(y_pred_mlr))\n"
      ],
      "metadata": {
        "colab": {
          "base_uri": "https://localhost:8080/"
        },
        "id": "PHg5sXGfB4F1",
        "outputId": "96ef2f63-f0fc-49fb-89bd-a11d097a50d1"
      },
      "execution_count": 51,
      "outputs": [
        {
          "output_type": "stream",
          "name": "stdout",
          "text": [
            "Prediction for test set: [0.47395865 0.4503635  0.43347525 0.43430288 0.45407379 0.42558192\n",
            " 0.4256269  0.40086034 0.34299562 0.34452906 0.34506256 0.3546125\n",
            " 0.37297068 0.35481019 0.34472978 0.3962589  0.43969896 0.46681556\n",
            " 0.45350739 0.42400764 0.38408517 0.36584435 0.38171572 0.3874683 ]\n"
          ]
        }
      ]
    },
    {
      "cell_type": "code",
      "source": [
        "#Actual value and the predicted value\n",
        "mlr_diff = pd.DataFrame({'Actual value': y_test, 'Predicted value': y_pred_mlr})\n",
        "mlr_diff.head()"
      ],
      "metadata": {
        "colab": {
          "base_uri": "https://localhost:8080/",
          "height": 206
        },
        "id": "WX75-XG1HdYh",
        "outputId": "42f4ea29-a0b8-4f7e-c3a7-536766d2acd4"
      },
      "execution_count": 52,
      "outputs": [
        {
          "output_type": "execute_result",
          "data": {
            "text/plain": [
              "     Actual value  Predicted value\n",
              "284         0.601         0.473959\n",
              "285         0.498         0.450364\n",
              "286         0.435         0.433475\n",
              "287         0.466         0.434303\n",
              "288         0.372         0.454074"
            ],
            "text/html": [
              "\n",
              "  <div id=\"df-a6c7025c-ecb5-423a-a68c-4427b3d17161\">\n",
              "    <div class=\"colab-df-container\">\n",
              "      <div>\n",
              "<style scoped>\n",
              "    .dataframe tbody tr th:only-of-type {\n",
              "        vertical-align: middle;\n",
              "    }\n",
              "\n",
              "    .dataframe tbody tr th {\n",
              "        vertical-align: top;\n",
              "    }\n",
              "\n",
              "    .dataframe thead th {\n",
              "        text-align: right;\n",
              "    }\n",
              "</style>\n",
              "<table border=\"1\" class=\"dataframe\">\n",
              "  <thead>\n",
              "    <tr style=\"text-align: right;\">\n",
              "      <th></th>\n",
              "      <th>Actual value</th>\n",
              "      <th>Predicted value</th>\n",
              "    </tr>\n",
              "  </thead>\n",
              "  <tbody>\n",
              "    <tr>\n",
              "      <th>284</th>\n",
              "      <td>0.601</td>\n",
              "      <td>0.473959</td>\n",
              "    </tr>\n",
              "    <tr>\n",
              "      <th>285</th>\n",
              "      <td>0.498</td>\n",
              "      <td>0.450364</td>\n",
              "    </tr>\n",
              "    <tr>\n",
              "      <th>286</th>\n",
              "      <td>0.435</td>\n",
              "      <td>0.433475</td>\n",
              "    </tr>\n",
              "    <tr>\n",
              "      <th>287</th>\n",
              "      <td>0.466</td>\n",
              "      <td>0.434303</td>\n",
              "    </tr>\n",
              "    <tr>\n",
              "      <th>288</th>\n",
              "      <td>0.372</td>\n",
              "      <td>0.454074</td>\n",
              "    </tr>\n",
              "  </tbody>\n",
              "</table>\n",
              "</div>\n",
              "      <button class=\"colab-df-convert\" onclick=\"convertToInteractive('df-a6c7025c-ecb5-423a-a68c-4427b3d17161')\"\n",
              "              title=\"Convert this dataframe to an interactive table.\"\n",
              "              style=\"display:none;\">\n",
              "        \n",
              "  <svg xmlns=\"http://www.w3.org/2000/svg\" height=\"24px\"viewBox=\"0 0 24 24\"\n",
              "       width=\"24px\">\n",
              "    <path d=\"M0 0h24v24H0V0z\" fill=\"none\"/>\n",
              "    <path d=\"M18.56 5.44l.94 2.06.94-2.06 2.06-.94-2.06-.94-.94-2.06-.94 2.06-2.06.94zm-11 1L8.5 8.5l.94-2.06 2.06-.94-2.06-.94L8.5 2.5l-.94 2.06-2.06.94zm10 10l.94 2.06.94-2.06 2.06-.94-2.06-.94-.94-2.06-.94 2.06-2.06.94z\"/><path d=\"M17.41 7.96l-1.37-1.37c-.4-.4-.92-.59-1.43-.59-.52 0-1.04.2-1.43.59L10.3 9.45l-7.72 7.72c-.78.78-.78 2.05 0 2.83L4 21.41c.39.39.9.59 1.41.59.51 0 1.02-.2 1.41-.59l7.78-7.78 2.81-2.81c.8-.78.8-2.07 0-2.86zM5.41 20L4 18.59l7.72-7.72 1.47 1.35L5.41 20z\"/>\n",
              "  </svg>\n",
              "      </button>\n",
              "      \n",
              "  <style>\n",
              "    .colab-df-container {\n",
              "      display:flex;\n",
              "      flex-wrap:wrap;\n",
              "      gap: 12px;\n",
              "    }\n",
              "\n",
              "    .colab-df-convert {\n",
              "      background-color: #E8F0FE;\n",
              "      border: none;\n",
              "      border-radius: 50%;\n",
              "      cursor: pointer;\n",
              "      display: none;\n",
              "      fill: #1967D2;\n",
              "      height: 32px;\n",
              "      padding: 0 0 0 0;\n",
              "      width: 32px;\n",
              "    }\n",
              "\n",
              "    .colab-df-convert:hover {\n",
              "      background-color: #E2EBFA;\n",
              "      box-shadow: 0px 1px 2px rgba(60, 64, 67, 0.3), 0px 1px 3px 1px rgba(60, 64, 67, 0.15);\n",
              "      fill: #174EA6;\n",
              "    }\n",
              "\n",
              "    [theme=dark] .colab-df-convert {\n",
              "      background-color: #3B4455;\n",
              "      fill: #D2E3FC;\n",
              "    }\n",
              "\n",
              "    [theme=dark] .colab-df-convert:hover {\n",
              "      background-color: #434B5C;\n",
              "      box-shadow: 0px 1px 3px 1px rgba(0, 0, 0, 0.15);\n",
              "      filter: drop-shadow(0px 1px 2px rgba(0, 0, 0, 0.3));\n",
              "      fill: #FFFFFF;\n",
              "    }\n",
              "  </style>\n",
              "\n",
              "      <script>\n",
              "        const buttonEl =\n",
              "          document.querySelector('#df-a6c7025c-ecb5-423a-a68c-4427b3d17161 button.colab-df-convert');\n",
              "        buttonEl.style.display =\n",
              "          google.colab.kernel.accessAllowed ? 'block' : 'none';\n",
              "\n",
              "        async function convertToInteractive(key) {\n",
              "          const element = document.querySelector('#df-a6c7025c-ecb5-423a-a68c-4427b3d17161');\n",
              "          const dataTable =\n",
              "            await google.colab.kernel.invokeFunction('convertToInteractive',\n",
              "                                                     [key], {});\n",
              "          if (!dataTable) return;\n",
              "\n",
              "          const docLinkHtml = 'Like what you see? Visit the ' +\n",
              "            '<a target=\"_blank\" href=https://colab.research.google.com/notebooks/data_table.ipynb>data table notebook</a>'\n",
              "            + ' to learn more about interactive tables.';\n",
              "          element.innerHTML = '';\n",
              "          dataTable['output_type'] = 'display_data';\n",
              "          await google.colab.output.renderOutput(dataTable, element);\n",
              "          const docLink = document.createElement('div');\n",
              "          docLink.innerHTML = docLinkHtml;\n",
              "          element.appendChild(docLink);\n",
              "        }\n",
              "      </script>\n",
              "    </div>\n",
              "  </div>\n",
              "  "
            ]
          },
          "metadata": {},
          "execution_count": 52
        }
      ]
    },
    {
      "cell_type": "code",
      "source": [
        "from sklearn import metrics\n",
        "meanAbErr = metrics.mean_absolute_error(y_test, y_pred_mlr)\n",
        "meanSqErr = metrics.mean_squared_error(y_test, y_pred_mlr)\n",
        "rootMeanSqErr = np.sqrt(metrics.mean_squared_error(y_test, y_pred_mlr))\n",
        "print('R squared: {:.2f}'.format(mlr.score(x,y)*100))\n",
        "print('Mean Absolute Error:', meanAbErr)\n",
        "print('Mean Square Error:', meanSqErr)\n",
        "print('Root Mean Square Error:', rootMeanSqErr)"
      ],
      "metadata": {
        "colab": {
          "base_uri": "https://localhost:8080/"
        },
        "id": "CSGUgtwBB5ej",
        "outputId": "a7abd5aa-c2be-49e6-c1e2-fce7d0bc3cc6"
      },
      "execution_count": 53,
      "outputs": [
        {
          "output_type": "stream",
          "name": "stdout",
          "text": [
            "R squared: 69.69\n",
            "Mean Absolute Error: 0.07881358260266709\n",
            "Mean Square Error: 0.01062595645613692\n",
            "Root Mean Square Error: 0.10308228002977486\n"
          ]
        }
      ]
    },
    {
      "cell_type": "markdown",
      "source": [
        "The Rsquared value for the model is is 69.69"
      ],
      "metadata": {
        "id": "YWdkELqLsGss"
      }
    },
    {
      "cell_type": "markdown",
      "source": [
        "### Correlation of N2O and CFC-11 with all other variables"
      ],
      "metadata": {
        "id": "RAlykwyW1Aif"
      }
    },
    {
      "cell_type": "code",
      "source": [
        "r = np.corrcoef(df1['N2O'], df1['MEI'])\n",
        "print(\"The correlation coefficient is: \" + str(r[1][0]))"
      ],
      "metadata": {
        "colab": {
          "base_uri": "https://localhost:8080/"
        },
        "id": "3pr5ngb_miFu",
        "outputId": "4e5fba58-1f2f-4361-c368-bf4bb22fd671"
      },
      "execution_count": 54,
      "outputs": [
        {
          "output_type": "stream",
          "name": "stdout",
          "text": [
            "The correlation coefficient is: -0.06177124908370091\n"
          ]
        }
      ]
    },
    {
      "cell_type": "code",
      "source": [
        "r = np.corrcoef(df1['N2O'], df1['CO2'])\n",
        "print(\"The correlation coefficient is: \" + str(r[1][0]))"
      ],
      "metadata": {
        "colab": {
          "base_uri": "https://localhost:8080/"
        },
        "id": "1cTAupfNp-Cd",
        "outputId": "1691788f-866d-48c1-ecab-d565bb3068a3"
      },
      "execution_count": 55,
      "outputs": [
        {
          "output_type": "stream",
          "name": "stdout",
          "text": [
            "The correlation coefficient is: 0.9749926361365618\n"
          ]
        }
      ]
    },
    {
      "cell_type": "code",
      "source": [
        "r = np.corrcoef(df1['N2O'], df1['CH4'])\n",
        "print(\"The correlation coefficient is: \" + str(r[1][0]))"
      ],
      "metadata": {
        "colab": {
          "base_uri": "https://localhost:8080/"
        },
        "id": "IDjIgFQMqD5I",
        "outputId": "6a88ecb0-6be1-4b82-c40b-4fe6992d6cca"
      },
      "execution_count": 56,
      "outputs": [
        {
          "output_type": "stream",
          "name": "stdout",
          "text": [
            "The correlation coefficient is: 0.8903124993701752\n"
          ]
        }
      ]
    },
    {
      "cell_type": "code",
      "source": [
        "r = np.corrcoef(df1['N2O'], df1['N2O'])\n",
        "print(\"The correlation coefficient is: \" + str(r[1][0]))"
      ],
      "metadata": {
        "colab": {
          "base_uri": "https://localhost:8080/"
        },
        "id": "Gwfsm6U-qJZZ",
        "outputId": "97dee47c-9549-4c06-e7da-c1417f6e31ff"
      },
      "execution_count": 57,
      "outputs": [
        {
          "output_type": "stream",
          "name": "stdout",
          "text": [
            "The correlation coefficient is: 1.0\n"
          ]
        }
      ]
    },
    {
      "cell_type": "code",
      "source": [
        "r = np.corrcoef(df1['N2O'], df1['CFC-11'])\n",
        "print(\"The correlation coefficient is: \" + str(r[1][0]))"
      ],
      "metadata": {
        "colab": {
          "base_uri": "https://localhost:8080/"
        },
        "id": "3609x49HqTEd",
        "outputId": "7be9fcdd-e84f-4f9b-fbab-1047d8959003"
      },
      "execution_count": 58,
      "outputs": [
        {
          "output_type": "stream",
          "name": "stdout",
          "text": [
            "The correlation coefficient is: 0.3273891567210462\n"
          ]
        }
      ]
    },
    {
      "cell_type": "code",
      "source": [
        "r = np.corrcoef(df1['N2O'], df1['CFC-12'])\n",
        "print(\"The correlation coefficient is: \" + str(r[1][0]))"
      ],
      "metadata": {
        "colab": {
          "base_uri": "https://localhost:8080/"
        },
        "id": "5Nvuc_Ovqb6r",
        "outputId": "6c8c17a4-abc6-48c0-d6ff-d6e4f27ca34f"
      },
      "execution_count": 59,
      "outputs": [
        {
          "output_type": "stream",
          "name": "stdout",
          "text": [
            "The correlation coefficient is: 0.8645200386566597\n"
          ]
        }
      ]
    },
    {
      "cell_type": "code",
      "source": [
        "r = np.corrcoef(df1['N2O'], df1['TSI'])\n",
        "print(\"The correlation coefficient is: \" + str(r[1][0]))"
      ],
      "metadata": {
        "colab": {
          "base_uri": "https://localhost:8080/"
        },
        "id": "AwiwjCKJqf60",
        "outputId": "cca15be3-e05e-412e-9315-280df85c144a"
      },
      "execution_count": 60,
      "outputs": [
        {
          "output_type": "stream",
          "name": "stdout",
          "text": [
            "The correlation coefficient is: 0.15958759016062263\n"
          ]
        }
      ]
    },
    {
      "cell_type": "code",
      "source": [
        "r = np.corrcoef(df1['N2O'], df1['Aerosols'])\n",
        "print(\"The correlation coefficient is: \" + str(r[1][0]))"
      ],
      "metadata": {
        "colab": {
          "base_uri": "https://localhost:8080/"
        },
        "id": "m4lS4p_Pql8-",
        "outputId": "709e4899-49ef-4d2f-db49-ef2ba0a9725a"
      },
      "execution_count": 61,
      "outputs": [
        {
          "output_type": "stream",
          "name": "stdout",
          "text": [
            "The correlation coefficient is: -0.6609381809526801\n"
          ]
        }
      ]
    },
    {
      "cell_type": "markdown",
      "source": [
        "N2O is correlated with CO2, CH4, CFC-12 since their correlation coefficient is greater than 0.7\n",
        "\n",
        "\n"
      ],
      "metadata": {
        "id": "dxaQYnvx3Jqh"
      }
    },
    {
      "cell_type": "code",
      "source": [
        "r = np.corrcoef(df1['CFC-11'], df1['MEI'])\n",
        "print(\"The correlation coefficient is: \" + str(r[1][0]))"
      ],
      "metadata": {
        "colab": {
          "base_uri": "https://localhost:8080/"
        },
        "id": "AOo0hRS-rsQR",
        "outputId": "1308ede3-62aa-49c3-b161-326aa93578a6"
      },
      "execution_count": 62,
      "outputs": [
        {
          "output_type": "stream",
          "name": "stdout",
          "text": [
            "The correlation coefficient is: -0.16610201966431865\n"
          ]
        }
      ]
    },
    {
      "cell_type": "code",
      "source": [
        "r = np.corrcoef(df1['CFC-11'], df1['CO2'])\n",
        "print(\"The correlation coefficient is: \" + str(r[1][0]))"
      ],
      "metadata": {
        "colab": {
          "base_uri": "https://localhost:8080/"
        },
        "id": "BLTh4geKr6CS",
        "outputId": "98c9fcb6-e14a-40e6-cf5c-29df40090cfb"
      },
      "execution_count": 63,
      "outputs": [
        {
          "output_type": "stream",
          "name": "stdout",
          "text": [
            "The correlation coefficient is: 0.34154482148525867\n"
          ]
        }
      ]
    },
    {
      "cell_type": "code",
      "source": [
        "r = np.corrcoef(df1['CFC-11'], df1['CH4'])\n",
        "print(\"The correlation coefficient is: \" + str(r[1][0]))"
      ],
      "metadata": {
        "colab": {
          "base_uri": "https://localhost:8080/"
        },
        "id": "rBb-GYunsAY5",
        "outputId": "05909fab-d659-4b30-ea41-a0e6ae2ab842"
      },
      "execution_count": 64,
      "outputs": [
        {
          "output_type": "stream",
          "name": "stdout",
          "text": [
            "The correlation coefficient is: 0.627913787898016\n"
          ]
        }
      ]
    },
    {
      "cell_type": "code",
      "source": [
        "r = np.corrcoef(df1['CFC-11'], df1['N2O'])\n",
        "print(\"The correlation coefficient is: \" + str(r[1][0]))"
      ],
      "metadata": {
        "colab": {
          "base_uri": "https://localhost:8080/"
        },
        "id": "XnQv0fdxsDYJ",
        "outputId": "d3112c90-91ce-4e26-e9bd-8b2984d7c926"
      },
      "execution_count": 65,
      "outputs": [
        {
          "output_type": "stream",
          "name": "stdout",
          "text": [
            "The correlation coefficient is: 0.3273891567210462\n"
          ]
        }
      ]
    },
    {
      "cell_type": "code",
      "source": [
        "r = np.corrcoef(df1['CFC-11'], df1['CFC-12'])\n",
        "print(\"The correlation coefficient is: \" + str(r[1][0]))"
      ],
      "metadata": {
        "colab": {
          "base_uri": "https://localhost:8080/"
        },
        "id": "kcP6IAicsKpR",
        "outputId": "a914b863-3b8e-4178-810e-98363da5acb0"
      },
      "execution_count": 66,
      "outputs": [
        {
          "output_type": "stream",
          "name": "stdout",
          "text": [
            "The correlation coefficient is: 0.7493680735584559\n"
          ]
        }
      ]
    },
    {
      "cell_type": "code",
      "source": [
        "r = np.corrcoef(df1['CFC-11'], df1['TSI'])\n",
        "print(\"The correlation coefficient is: \" + str(r[1][0]))"
      ],
      "metadata": {
        "colab": {
          "base_uri": "https://localhost:8080/"
        },
        "id": "EpGIlsP_sOnX",
        "outputId": "c242ef11-3635-450b-bfb7-77b8b367d755"
      },
      "execution_count": 67,
      "outputs": [
        {
          "output_type": "stream",
          "name": "stdout",
          "text": [
            "The correlation coefficient is: 0.2571940874708528\n"
          ]
        }
      ]
    },
    {
      "cell_type": "code",
      "source": [
        "r = np.corrcoef(df1['CFC-11'], df1['Aerosols'])\n",
        "print(\"The correlation coefficient is: \" + str(r[1][0]))"
      ],
      "metadata": {
        "colab": {
          "base_uri": "https://localhost:8080/"
        },
        "id": "RHBmsCX9sVQ3",
        "outputId": "cac50f11-19fe-4927-88a8-4be2d3601fe0"
      },
      "execution_count": 68,
      "outputs": [
        {
          "output_type": "stream",
          "name": "stdout",
          "text": [
            "The correlation coefficient is: -0.23054354377641395\n"
          ]
        }
      ]
    },
    {
      "cell_type": "markdown",
      "source": [
        "CFC-11 is corelated with CFC-12 since their correlation coefficient is greater than 0.7"
      ],
      "metadata": {
        "id": "hbb1ovc13h25"
      }
    },
    {
      "cell_type": "markdown",
      "source": [
        "Question.\n",
        "\n",
        "Current scientific opinion is that nitrous oxide and CFC-11 are greenhouse gases: gases that are able to trap heat from the sun and contribute to the heating of the Earth. However, the regression coefficients of both the N2O and CFC-11 variables are negative, indicating that increasing atmospheric concentrations of either of these two compounds is associated with lower global temperatures.\n",
        "\n",
        "Which of the following is the simplest correct explanation for this contradiction?\n",
        "\n",
        "Answer\n",
        "\n",
        "III. All of the gas concentration variables reflect human development - N2O and CFC.11 are correlated with other variables in the data set."
      ],
      "metadata": {
        "id": "ayRTwnCl3qv8"
      }
    },
    {
      "cell_type": "markdown",
      "source": [
        "### Training the Model with N20, Mei, TSI and Aerosols only"
      ],
      "metadata": {
        "id": "jmPad6cj1LzX"
      }
    },
    {
      "cell_type": "code",
      "source": [
        "x_train_1 = df1[['MEI', 'N2O', 'TSI', 'Aerosols']]\n",
        "y_train_1 = df1['Temp']\n",
        "x_test_1 = df2[['MEI', 'N2O', 'TSI', 'Aerosols']]\n",
        "y_test_1 = df2['Temp']\n",
        "x_1 = data[['MEI', 'N2O', 'TSI', 'Aerosols']]\n",
        "y_1 = data[['Temp']]"
      ],
      "metadata": {
        "id": "RBagDCrv3kDY"
      },
      "execution_count": 71,
      "outputs": []
    },
    {
      "cell_type": "code",
      "source": [
        "X2_train_1 = sm.add_constant(x_train_1)\n",
        "est_train_1 = sm.OLS(y_train_1, X2_train_1)\n",
        "est2_1 = est_train_1.fit()\n",
        "print(est2_1.summary())"
      ],
      "metadata": {
        "colab": {
          "base_uri": "https://localhost:8080/"
        },
        "id": "SW2_nYK19HKP",
        "outputId": "a4f028ac-0a80-46fc-f05d-12c0770cf670"
      },
      "execution_count": 72,
      "outputs": [
        {
          "output_type": "stream",
          "name": "stdout",
          "text": [
            "                            OLS Regression Results                            \n",
            "==============================================================================\n",
            "Dep. Variable:                   Temp   R-squared:                       0.706\n",
            "Model:                            OLS   Adj. R-squared:                  0.701\n",
            "Method:                 Least Squares   F-statistic:                     128.7\n",
            "Date:                Wed, 18 May 2022   Prob (F-statistic):           8.92e-56\n",
            "Time:                        05:52:21   Log-Likelihood:                 223.51\n",
            "No. Observations:                 219   AIC:                            -437.0\n",
            "Df Residuals:                     214   BIC:                            -420.1\n",
            "Df Model:                           4                                         \n",
            "Covariance Type:            nonrobust                                         \n",
            "==============================================================================\n",
            "                 coef    std err          t      P>|t|      [0.025      0.975]\n",
            "------------------------------------------------------------------------------\n",
            "const        -53.1366     23.146     -2.296      0.023     -98.759      -7.514\n",
            "MEI            0.0606      0.007      8.212      0.000       0.046       0.075\n",
            "N2O            0.0217      0.002     12.113      0.000       0.018       0.025\n",
            "TSI            0.0342      0.017      2.028      0.044       0.001       0.067\n",
            "Aerosols      -8.3714      1.995     -4.197      0.000     -12.303      -4.439\n",
            "==============================================================================\n",
            "Omnibus:                        9.543   Durbin-Watson:                   0.940\n",
            "Prob(Omnibus):                  0.008   Jarque-Bera (JB):               10.250\n",
            "Skew:                           0.407   Prob(JB):                      0.00595\n",
            "Kurtosis:                       3.678   Cond. No.                     5.45e+06\n",
            "==============================================================================\n",
            "\n",
            "Warnings:\n",
            "[1] Standard Errors assume that the covariance matrix of the errors is correctly specified.\n",
            "[2] The condition number is large, 5.45e+06. This might indicate that there are\n",
            "strong multicollinearity or other numerical problems.\n"
          ]
        },
        {
          "output_type": "stream",
          "name": "stderr",
          "text": [
            "/usr/local/lib/python3.7/dist-packages/statsmodels/tsa/tsatools.py:117: FutureWarning: In a future version of pandas all arguments of concat except for the argument 'objs' will be keyword-only\n",
            "  x = pd.concat(x[::order], 1)\n"
          ]
        }
      ]
    },
    {
      "cell_type": "code",
      "source": [
        "from sklearn.linear_model import LinearRegression\n",
        "mlr = LinearRegression()  \n",
        "mlr.fit(x_train_1, y_train_1)"
      ],
      "metadata": {
        "colab": {
          "base_uri": "https://localhost:8080/"
        },
        "id": "Nm56Dh6otDSN",
        "outputId": "6b7d74fc-e59f-4284-df54-7d5fe6f15e72"
      },
      "execution_count": 73,
      "outputs": [
        {
          "output_type": "execute_result",
          "data": {
            "text/plain": [
              "LinearRegression()"
            ]
          },
          "metadata": {},
          "execution_count": 73
        }
      ]
    },
    {
      "cell_type": "code",
      "source": [
        "print(\"Intercept: \", mlr.intercept_)\n",
        "print(\"Coefficients:\")\n",
        "list(zip(x_1, mlr.coef_))"
      ],
      "metadata": {
        "colab": {
          "base_uri": "https://localhost:8080/"
        },
        "id": "RLdf1DZstOh_",
        "outputId": "f32e3187-4ea0-41ab-c79f-75c1e009cfd0"
      },
      "execution_count": 74,
      "outputs": [
        {
          "output_type": "stream",
          "name": "stdout",
          "text": [
            "Intercept:  -53.13657186298024\n",
            "Coefficients:\n"
          ]
        },
        {
          "output_type": "execute_result",
          "data": {
            "text/plain": [
              "[('MEI', 0.06057100564913947),\n",
              " ('N2O', 0.0217419646685703),\n",
              " ('TSI', 0.03415981688806212),\n",
              " ('Aerosols', -8.37144911641541)]"
            ]
          },
          "metadata": {},
          "execution_count": 74
        }
      ]
    },
    {
      "cell_type": "markdown",
      "source": [
        "The coeffcient of N2O in this model is  = 0.0217 \n",
        "\n",
        "In the previous model the coefficient of N2O was  = 0.001826\n",
        "\n",
        "So the coefficient has increased in this model suggesting that N2O has a greater influence on this model than the previous one."
      ],
      "metadata": {
        "id": "AuAhYuDZvUu2"
      }
    },
    {
      "cell_type": "code",
      "source": [
        "#Prediction of test set\n",
        "y_pred_mlr_1= mlr.predict(x_test_1)\n",
        "#Predicted values\n",
        "print(\"Prediction for test set: {}\".format(y_pred_mlr_1))"
      ],
      "metadata": {
        "colab": {
          "base_uri": "https://localhost:8080/"
        },
        "id": "tGjXY8Pttmfb",
        "outputId": "9e5f16d9-662b-4f9a-e33b-65ae82b68e02"
      },
      "execution_count": 75,
      "outputs": [
        {
          "output_type": "stream",
          "name": "stdout",
          "text": [
            "Prediction for test set: [0.4994973  0.47402556 0.45350238 0.44432044 0.4591232  0.42707112\n",
            " 0.4311838  0.42411848 0.38135484 0.38933851 0.38846345 0.39489663\n",
            " 0.4093001  0.38835418 0.3726421  0.41817244 0.45693594 0.48525866\n",
            " 0.47434819 0.45574824 0.43001199 0.42539002 0.43910982 0.44125798]\n"
          ]
        }
      ]
    },
    {
      "cell_type": "code",
      "source": [
        "#Actual value and the predicted value\n",
        "mlr_diff_1 = pd.DataFrame({'Actual value': y_test_1, 'Predicted value': y_pred_mlr_1})\n",
        "mlr_diff_1.head()"
      ],
      "metadata": {
        "colab": {
          "base_uri": "https://localhost:8080/",
          "height": 206
        },
        "id": "KkMftB5Vt6OC",
        "outputId": "33befbe2-9b88-46ed-efa3-33a96be2fa2c"
      },
      "execution_count": 76,
      "outputs": [
        {
          "output_type": "execute_result",
          "data": {
            "text/plain": [
              "     Actual value  Predicted value\n",
              "284         0.601         0.499497\n",
              "285         0.498         0.474026\n",
              "286         0.435         0.453502\n",
              "287         0.466         0.444320\n",
              "288         0.372         0.459123"
            ],
            "text/html": [
              "\n",
              "  <div id=\"df-26e195fd-5964-4ec7-a43d-0c7b072ddda4\">\n",
              "    <div class=\"colab-df-container\">\n",
              "      <div>\n",
              "<style scoped>\n",
              "    .dataframe tbody tr th:only-of-type {\n",
              "        vertical-align: middle;\n",
              "    }\n",
              "\n",
              "    .dataframe tbody tr th {\n",
              "        vertical-align: top;\n",
              "    }\n",
              "\n",
              "    .dataframe thead th {\n",
              "        text-align: right;\n",
              "    }\n",
              "</style>\n",
              "<table border=\"1\" class=\"dataframe\">\n",
              "  <thead>\n",
              "    <tr style=\"text-align: right;\">\n",
              "      <th></th>\n",
              "      <th>Actual value</th>\n",
              "      <th>Predicted value</th>\n",
              "    </tr>\n",
              "  </thead>\n",
              "  <tbody>\n",
              "    <tr>\n",
              "      <th>284</th>\n",
              "      <td>0.601</td>\n",
              "      <td>0.499497</td>\n",
              "    </tr>\n",
              "    <tr>\n",
              "      <th>285</th>\n",
              "      <td>0.498</td>\n",
              "      <td>0.474026</td>\n",
              "    </tr>\n",
              "    <tr>\n",
              "      <th>286</th>\n",
              "      <td>0.435</td>\n",
              "      <td>0.453502</td>\n",
              "    </tr>\n",
              "    <tr>\n",
              "      <th>287</th>\n",
              "      <td>0.466</td>\n",
              "      <td>0.444320</td>\n",
              "    </tr>\n",
              "    <tr>\n",
              "      <th>288</th>\n",
              "      <td>0.372</td>\n",
              "      <td>0.459123</td>\n",
              "    </tr>\n",
              "  </tbody>\n",
              "</table>\n",
              "</div>\n",
              "      <button class=\"colab-df-convert\" onclick=\"convertToInteractive('df-26e195fd-5964-4ec7-a43d-0c7b072ddda4')\"\n",
              "              title=\"Convert this dataframe to an interactive table.\"\n",
              "              style=\"display:none;\">\n",
              "        \n",
              "  <svg xmlns=\"http://www.w3.org/2000/svg\" height=\"24px\"viewBox=\"0 0 24 24\"\n",
              "       width=\"24px\">\n",
              "    <path d=\"M0 0h24v24H0V0z\" fill=\"none\"/>\n",
              "    <path d=\"M18.56 5.44l.94 2.06.94-2.06 2.06-.94-2.06-.94-.94-2.06-.94 2.06-2.06.94zm-11 1L8.5 8.5l.94-2.06 2.06-.94-2.06-.94L8.5 2.5l-.94 2.06-2.06.94zm10 10l.94 2.06.94-2.06 2.06-.94-2.06-.94-.94-2.06-.94 2.06-2.06.94z\"/><path d=\"M17.41 7.96l-1.37-1.37c-.4-.4-.92-.59-1.43-.59-.52 0-1.04.2-1.43.59L10.3 9.45l-7.72 7.72c-.78.78-.78 2.05 0 2.83L4 21.41c.39.39.9.59 1.41.59.51 0 1.02-.2 1.41-.59l7.78-7.78 2.81-2.81c.8-.78.8-2.07 0-2.86zM5.41 20L4 18.59l7.72-7.72 1.47 1.35L5.41 20z\"/>\n",
              "  </svg>\n",
              "      </button>\n",
              "      \n",
              "  <style>\n",
              "    .colab-df-container {\n",
              "      display:flex;\n",
              "      flex-wrap:wrap;\n",
              "      gap: 12px;\n",
              "    }\n",
              "\n",
              "    .colab-df-convert {\n",
              "      background-color: #E8F0FE;\n",
              "      border: none;\n",
              "      border-radius: 50%;\n",
              "      cursor: pointer;\n",
              "      display: none;\n",
              "      fill: #1967D2;\n",
              "      height: 32px;\n",
              "      padding: 0 0 0 0;\n",
              "      width: 32px;\n",
              "    }\n",
              "\n",
              "    .colab-df-convert:hover {\n",
              "      background-color: #E2EBFA;\n",
              "      box-shadow: 0px 1px 2px rgba(60, 64, 67, 0.3), 0px 1px 3px 1px rgba(60, 64, 67, 0.15);\n",
              "      fill: #174EA6;\n",
              "    }\n",
              "\n",
              "    [theme=dark] .colab-df-convert {\n",
              "      background-color: #3B4455;\n",
              "      fill: #D2E3FC;\n",
              "    }\n",
              "\n",
              "    [theme=dark] .colab-df-convert:hover {\n",
              "      background-color: #434B5C;\n",
              "      box-shadow: 0px 1px 3px 1px rgba(0, 0, 0, 0.15);\n",
              "      filter: drop-shadow(0px 1px 2px rgba(0, 0, 0, 0.3));\n",
              "      fill: #FFFFFF;\n",
              "    }\n",
              "  </style>\n",
              "\n",
              "      <script>\n",
              "        const buttonEl =\n",
              "          document.querySelector('#df-26e195fd-5964-4ec7-a43d-0c7b072ddda4 button.colab-df-convert');\n",
              "        buttonEl.style.display =\n",
              "          google.colab.kernel.accessAllowed ? 'block' : 'none';\n",
              "\n",
              "        async function convertToInteractive(key) {\n",
              "          const element = document.querySelector('#df-26e195fd-5964-4ec7-a43d-0c7b072ddda4');\n",
              "          const dataTable =\n",
              "            await google.colab.kernel.invokeFunction('convertToInteractive',\n",
              "                                                     [key], {});\n",
              "          if (!dataTable) return;\n",
              "\n",
              "          const docLinkHtml = 'Like what you see? Visit the ' +\n",
              "            '<a target=\"_blank\" href=https://colab.research.google.com/notebooks/data_table.ipynb>data table notebook</a>'\n",
              "            + ' to learn more about interactive tables.';\n",
              "          element.innerHTML = '';\n",
              "          dataTable['output_type'] = 'display_data';\n",
              "          await google.colab.output.renderOutput(dataTable, element);\n",
              "          const docLink = document.createElement('div');\n",
              "          docLink.innerHTML = docLinkHtml;\n",
              "          element.appendChild(docLink);\n",
              "        }\n",
              "      </script>\n",
              "    </div>\n",
              "  </div>\n",
              "  "
            ]
          },
          "metadata": {},
          "execution_count": 76
        }
      ]
    },
    {
      "cell_type": "code",
      "source": [
        "from sklearn import metrics\n",
        "meanAbErr = metrics.mean_absolute_error(y_test_1, y_pred_mlr_1)\n",
        "meanSqErr = metrics.mean_squared_error(y_test_1, y_pred_mlr_1)\n",
        "rootMeanSqErr = np.sqrt(metrics.mean_squared_error(y_test_1, y_pred_mlr_1))\n",
        "print('R squared: {:.2f}'.format(mlr.score(x_1,y_1)*100))\n",
        "print('Mean Absolute Error:', meanAbErr)\n",
        "print('Mean Square Error:', meanSqErr)\n",
        "print('Root Mean Square Error:', rootMeanSqErr)"
      ],
      "metadata": {
        "colab": {
          "base_uri": "https://localhost:8080/"
        },
        "id": "A_dAwP5MuEfr",
        "outputId": "ff5a350c-2828-4e04-da81-1fe390e51f87"
      },
      "execution_count": 78,
      "outputs": [
        {
          "output_type": "stream",
          "name": "stdout",
          "text": [
            "R squared: 67.00\n",
            "Mean Absolute Error: 0.09020686837753002\n",
            "Mean Square Error: 0.013717618459981736\n",
            "Root Mean Square Error: 0.11712223725655917\n"
          ]
        }
      ]
    },
    {
      "cell_type": "markdown",
      "source": [
        "The R-sqaured value of the new model is 67.00 which has been decreased from the previous model which was 69.69"
      ],
      "metadata": {
        "id": "8paP4nhDvTGP"
      }
    },
    {
      "cell_type": "markdown",
      "source": [
        "### Conclusion\n",
        "\n",
        "1. The variables that have a P-Value less than 0.05 are CFC-12, TSI, Aerosols and MEI\n",
        "\n",
        "2. The R-squared value for the model  with alll the variables is 69.69\n",
        "\n",
        "3. N20 and CFC-11 were correlated with all the variables and we found out that:\n",
        "\n",
        "     a. N2O is correlated with CO2, CH4, CFC-12 since their correlation coefficient is greater than 0.7\n",
        "\n",
        "     b. CFC-11 is corelated with CFC-12 since their correlation coefficient is greater than 0.7\n",
        "\n",
        " Therefore the statement [III.  All of the gas concentration variables reflect human development - N2O and CFC.11 are correlated with other variables in the data set.]  \n",
        "\n",
        " Is true\n",
        "\n",
        "4. Now a model with only N20, Mei, TSI and Aerosols is trained.\n",
        "\n",
        "   a. The coeffcient of N2O in this model is = 0.0217\n",
        "\n",
        "      In the previous model the coefficient of N2O was = 0.001826\n",
        "\n",
        "    So the coefficient has increased in this model suggesting that N2O has a greater influence on this model than the previous one.\n",
        "\n",
        "    b. The R-sqaured value of the new model is 67.00 which has been decreased from the previous model which was 69.69. So the first model is a better model for our varibles than our previous models.\n",
        "\n"
      ],
      "metadata": {
        "id": "46ME7AoG14mc"
      }
    }
  ]
}